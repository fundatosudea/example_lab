{
 "cells": [
  {
   "cell_type": "code",
   "execution_count": 1,
   "id": "7884b4e9",
   "metadata": {
    "deletable": false,
    "editable": false
   },
   "outputs": [],
   "source": [
    "# Initialize Otter\n",
    "import otter\n",
    "grader = otter.Notebook(\"Lab04_pandas.ipynb\")"
   ]
  },
  {
   "cell_type": "code",
   "execution_count": 2,
   "id": "54e59a67",
   "metadata": {},
   "outputs": [],
   "source": [
    "import otter\n",
    "import pandas as pd\n",
    "import numpy as np\n",
    "%matplotlib inline\n",
    "import otter\n",
    "import matplotlib.pylab as plt\n",
    "grader = otter.Notebook()\n"
   ]
  },
  {
   "cell_type": "markdown",
   "id": "4b277244",
   "metadata": {
    "deletable": false,
    "editable": false
   },
   "source": [
    "\n",
    "**Pregunta  1:** Para los planetas de nuestro sistema solar, construir una serie de pandas  `ds` con indice nombre del planeta y valor la distancia al sol en UA. \n",
    "\n",
    "Puedes intentanar generarlos con una IA, ejemplo de prompt:\n",
    "\n",
    "hint: \n",
    "`Generar un diccionario cuya clave es el nombre del planeta y valor la distancia al sol en UA`\n",
    "\n",
    "\n",
    "a. Acceder al valor de mercurio y almacenarlo en una variable llamada dM.\n",
    "\n",
    "b. Acceder al valor de Jupyter y almacenarlo en una variable llamada dJ.\n",
    "\n",
    "c. Generar una nueva serie con los planetas cuya distancia es menor a 10UA, almacenarla en s"
   ]
  },
  {
   "cell_type": "code",
   "execution_count": 3,
   "id": "f7ad8961",
   "metadata": {
    "scrolled": true,
    "tags": []
   },
   "outputs": [
    {
     "data": {
      "text/plain": [
       "Ellipsis"
      ]
     },
     "execution_count": 3,
     "metadata": {},
     "output_type": "execute_result"
    }
   ],
   "source": [
    "\n",
    "ds = ...\n",
    "dM = ...\n",
    "dJ = ...\n",
    "s = ...\n",
    "ds"
   ]
  },
  {
   "cell_type": "code",
   "execution_count": 4,
   "id": "e81551aa",
   "metadata": {
    "deletable": false,
    "editable": false
   },
   "outputs": [
    {
     "data": {
      "text/html": [
       "<p><strong style='color: red;'><pre style='display: inline;'>q1</pre> results:</strong></p><p><strong><pre style='display: inline;'>q1 - 1</pre> result:</strong></p><pre>    ❌ Test case failed\n",
       "    Trying:\n",
       "        isinstance(ds, pd.Series) == True\n",
       "    Expecting:\n",
       "        True\n",
       "    **********************************************************************\n",
       "    Line 1, in q1 0\n",
       "    Failed example:\n",
       "        isinstance(ds, pd.Series) == True\n",
       "    Expected:\n",
       "        True\n",
       "    Got:\n",
       "        False\n",
       "</pre><p><strong><pre style='display: inline;'>q1 - 2</pre> result:</strong></p><pre>    ❌ Test case failed\n",
       "    Trying:\n",
       "        np.isclose(dM, 0.39, rtol=0.001) == True\n",
       "    Expecting:\n",
       "        True\n",
       "    **********************************************************************\n",
       "    Line 1, in q1 1\n",
       "    Failed example:\n",
       "        np.isclose(dM, 0.39, rtol=0.001) == True\n",
       "    Exception raised:\n",
       "        Traceback (most recent call last):\n",
       "          File \"/Users/neuman/anaconda3/lib/python3.10/doctest.py\", line 1350, in __run\n",
       "            exec(compile(example.source, filename, \"single\",\n",
       "          File \"<doctest q1 1[0]>\", line 1, in <module>\n",
       "            np.isclose(dM, 0.39, rtol=0.001) == True\n",
       "          File \"<__array_function__ internals>\", line 180, in isclose\n",
       "          File \"/Users/neuman/anaconda3/lib/python3.10/site-packages/numpy/core/numeric.py\", line 2372, in isclose\n",
       "            xfin = isfinite(x)\n",
       "        TypeError: ufunc 'isfinite' not supported for the input types, and the inputs could not be safely coerced to any supported types according to the casting rule ''safe''\n",
       "</pre><p><strong><pre style='display: inline;'>q1 - 3</pre> result:</strong></p><pre>    ❌ Test case failed\n",
       "    Trying:\n",
       "        np.isclose(dJ, 5.2, rtol=0.001) == True\n",
       "    Expecting:\n",
       "        True\n",
       "    **********************************************************************\n",
       "    Line 1, in q1 2\n",
       "    Failed example:\n",
       "        np.isclose(dJ, 5.2, rtol=0.001) == True\n",
       "    Exception raised:\n",
       "        Traceback (most recent call last):\n",
       "          File \"/Users/neuman/anaconda3/lib/python3.10/doctest.py\", line 1350, in __run\n",
       "            exec(compile(example.source, filename, \"single\",\n",
       "          File \"<doctest q1 2[0]>\", line 1, in <module>\n",
       "            np.isclose(dJ, 5.2, rtol=0.001) == True\n",
       "          File \"<__array_function__ internals>\", line 180, in isclose\n",
       "          File \"/Users/neuman/anaconda3/lib/python3.10/site-packages/numpy/core/numeric.py\", line 2372, in isclose\n",
       "            xfin = isfinite(x)\n",
       "        TypeError: ufunc 'isfinite' not supported for the input types, and the inputs could not be safely coerced to any supported types according to the casting rule ''safe''\n",
       "</pre><p><strong><pre style='display: inline;'>q1 - 4</pre> result:</strong></p><pre>    ❌ Test case failed\n",
       "    Trying:\n",
       "        (len(ds) == 9) == True\n",
       "    Expecting:\n",
       "        True\n",
       "    **********************************************************************\n",
       "    Line 1, in q1 3\n",
       "    Failed example:\n",
       "        (len(ds) == 9) == True\n",
       "    Exception raised:\n",
       "        Traceback (most recent call last):\n",
       "          File \"/Users/neuman/anaconda3/lib/python3.10/doctest.py\", line 1350, in __run\n",
       "            exec(compile(example.source, filename, \"single\",\n",
       "          File \"<doctest q1 3[0]>\", line 1, in <module>\n",
       "            (len(ds) == 9) == True\n",
       "        TypeError: object of type 'ellipsis' has no len()\n",
       "</pre><p><strong><pre style='display: inline;'>q1 - 5</pre> result:</strong></p><pre>    ❌ Test case failed\n",
       "    Trying:\n",
       "        (len(s) == 6) == True\n",
       "    Expecting:\n",
       "        True\n",
       "    **********************************************************************\n",
       "    Line 1, in q1 4\n",
       "    Failed example:\n",
       "        (len(s) == 6) == True\n",
       "    Exception raised:\n",
       "        Traceback (most recent call last):\n",
       "          File \"/Users/neuman/anaconda3/lib/python3.10/doctest.py\", line 1350, in __run\n",
       "            exec(compile(example.source, filename, \"single\",\n",
       "          File \"<doctest q1 4[0]>\", line 1, in <module>\n",
       "            (len(s) == 6) == True\n",
       "        TypeError: object of type 'ellipsis' has no len()\n",
       "</pre>"
      ],
      "text/plain": [
       "q1 results:\n",
       "    q1 - 1 result:\n",
       "        ❌ Test case failed\n",
       "        Trying:\n",
       "            isinstance(ds, pd.Series) == True\n",
       "        Expecting:\n",
       "            True\n",
       "        **********************************************************************\n",
       "        Line 1, in q1 0\n",
       "        Failed example:\n",
       "            isinstance(ds, pd.Series) == True\n",
       "        Expected:\n",
       "            True\n",
       "        Got:\n",
       "            False\n",
       "\n",
       "    q1 - 2 result:\n",
       "        ❌ Test case failed\n",
       "        Trying:\n",
       "            np.isclose(dM, 0.39, rtol=0.001) == True\n",
       "        Expecting:\n",
       "            True\n",
       "        **********************************************************************\n",
       "        Line 1, in q1 1\n",
       "        Failed example:\n",
       "            np.isclose(dM, 0.39, rtol=0.001) == True\n",
       "        Exception raised:\n",
       "            Traceback (most recent call last):\n",
       "              File \"/Users/neuman/anaconda3/lib/python3.10/doctest.py\", line 1350, in __run\n",
       "                exec(compile(example.source, filename, \"single\",\n",
       "              File \"<doctest q1 1[0]>\", line 1, in <module>\n",
       "                np.isclose(dM, 0.39, rtol=0.001) == True\n",
       "              File \"<__array_function__ internals>\", line 180, in isclose\n",
       "              File \"/Users/neuman/anaconda3/lib/python3.10/site-packages/numpy/core/numeric.py\", line 2372, in isclose\n",
       "                xfin = isfinite(x)\n",
       "            TypeError: ufunc 'isfinite' not supported for the input types, and the inputs could not be safely coerced to any supported types according to the casting rule ''safe''\n",
       "\n",
       "    q1 - 3 result:\n",
       "        ❌ Test case failed\n",
       "        Trying:\n",
       "            np.isclose(dJ, 5.2, rtol=0.001) == True\n",
       "        Expecting:\n",
       "            True\n",
       "        **********************************************************************\n",
       "        Line 1, in q1 2\n",
       "        Failed example:\n",
       "            np.isclose(dJ, 5.2, rtol=0.001) == True\n",
       "        Exception raised:\n",
       "            Traceback (most recent call last):\n",
       "              File \"/Users/neuman/anaconda3/lib/python3.10/doctest.py\", line 1350, in __run\n",
       "                exec(compile(example.source, filename, \"single\",\n",
       "              File \"<doctest q1 2[0]>\", line 1, in <module>\n",
       "                np.isclose(dJ, 5.2, rtol=0.001) == True\n",
       "              File \"<__array_function__ internals>\", line 180, in isclose\n",
       "              File \"/Users/neuman/anaconda3/lib/python3.10/site-packages/numpy/core/numeric.py\", line 2372, in isclose\n",
       "                xfin = isfinite(x)\n",
       "            TypeError: ufunc 'isfinite' not supported for the input types, and the inputs could not be safely coerced to any supported types according to the casting rule ''safe''\n",
       "\n",
       "    q1 - 4 result:\n",
       "        ❌ Test case failed\n",
       "        Trying:\n",
       "            (len(ds) == 9) == True\n",
       "        Expecting:\n",
       "            True\n",
       "        **********************************************************************\n",
       "        Line 1, in q1 3\n",
       "        Failed example:\n",
       "            (len(ds) == 9) == True\n",
       "        Exception raised:\n",
       "            Traceback (most recent call last):\n",
       "              File \"/Users/neuman/anaconda3/lib/python3.10/doctest.py\", line 1350, in __run\n",
       "                exec(compile(example.source, filename, \"single\",\n",
       "              File \"<doctest q1 3[0]>\", line 1, in <module>\n",
       "                (len(ds) == 9) == True\n",
       "            TypeError: object of type 'ellipsis' has no len()\n",
       "\n",
       "    q1 - 5 result:\n",
       "        ❌ Test case failed\n",
       "        Trying:\n",
       "            (len(s) == 6) == True\n",
       "        Expecting:\n",
       "            True\n",
       "        **********************************************************************\n",
       "        Line 1, in q1 4\n",
       "        Failed example:\n",
       "            (len(s) == 6) == True\n",
       "        Exception raised:\n",
       "            Traceback (most recent call last):\n",
       "              File \"/Users/neuman/anaconda3/lib/python3.10/doctest.py\", line 1350, in __run\n",
       "                exec(compile(example.source, filename, \"single\",\n",
       "              File \"<doctest q1 4[0]>\", line 1, in <module>\n",
       "                (len(s) == 6) == True\n",
       "            TypeError: object of type 'ellipsis' has no len()"
      ]
     },
     "execution_count": 4,
     "metadata": {},
     "output_type": "execute_result"
    }
   ],
   "source": [
    "grader.check(\"q1\")"
   ]
  },
  {
   "cell_type": "markdown",
   "id": "4e567884",
   "metadata": {
    "deletable": false,
    "editable": false
   },
   "source": [
    "**Pregunta 2:** \n",
    "\n",
    "a. Construir una serie de pandas  `dt`, con indice nombre del planeta y valor el periodo orbital en unidades de periodos terrestres.\n",
    "\n",
    "b. Construir un dataframe de  pandas `df` con la serie ds y la serie dt, los nombres de las columnas deberán ser:\n",
    " `DistanciaSolUA`, `PeriodoUT`, el indice debe ser el nombre del planeta\n"
   ]
  },
  {
   "cell_type": "code",
   "execution_count": null,
   "id": "e2660abf",
   "metadata": {
    "tags": []
   },
   "outputs": [],
   "source": [
    "\n",
    "dt = ...\n",
    "df = ...\n",
    "df"
   ]
  },
  {
   "cell_type": "code",
   "execution_count": null,
   "id": "a1de9633",
   "metadata": {
    "deletable": false,
    "editable": false
   },
   "outputs": [],
   "source": [
    "grader.check(\"q2\")"
   ]
  },
  {
   "cell_type": "markdown",
   "id": "613d9ffd",
   "metadata": {
    "deletable": false,
    "editable": false
   },
   "source": [
    "**Pregunta 3:** El dataset [Temperature_Bogota_Barcelona](https://github.com/hernansalinas/Curso_Metodos_Computacionales/blob/main/Entregas/Parciales/Parcial1/dataset/Temperature_Bogota_Barcelona.csv)\n",
    " contiene información de la temperatura (en grados Fahrenheit) promedio de Bogotá y Barcelona desde el año 1995. Para el presente dataset realizar lo siguiente:\n",
    " \n",
    " \n",
    " a. Leer el dataset desde el link sugerido.\n",
    "\n",
    " b. Eliminar las columnas Month,  day y Unnamed\n",
    "\n",
    " c. Adicionar una nueva columna llamada `AvgTempCelcius` con la temperatura en grados celcius. $ C=(F-32)/1.8$\n",
    "\n"
   ]
  },
  {
   "cell_type": "code",
   "execution_count": null,
   "id": "b7bcb919",
   "metadata": {
    "tags": []
   },
   "outputs": [],
   "source": [
    "df = ...\n",
    "...\n",
    "...\n",
    "\n",
    "df"
   ]
  },
  {
   "cell_type": "code",
   "execution_count": null,
   "id": "f12bfc8c",
   "metadata": {
    "deletable": false,
    "editable": false
   },
   "outputs": [],
   "source": [
    "grader.check(\"q3\")"
   ]
  },
  {
   "cell_type": "markdown",
   "id": "1f332ce9",
   "metadata": {
    "deletable": false,
    "editable": false
   },
   "source": [
    "**Pregunta 4** Para el miso data set anterior realizar lo siguiente:\n",
    "\n",
    " a. Crear un nuevo data frame llamado df1, con los valores de temperatura de bogota que sean menores que 20 °C. \n",
    " b. Crear un nuevo data frame llamado df2, con los valores de temperatura de Barcelona que este entre 10 °C y 20 °C "
   ]
  },
  {
   "cell_type": "code",
   "execution_count": null,
   "id": "0204302a",
   "metadata": {
    "tags": []
   },
   "outputs": [],
   "source": [
    "df1 = ...\n",
    "...\n",
    "df2 = ...\n",
    "...\n",
    "print(df1.head())\n",
    "print(df2.head())"
   ]
  },
  {
   "cell_type": "code",
   "execution_count": null,
   "id": "7eb87239",
   "metadata": {
    "deletable": false,
    "editable": false
   },
   "outputs": [],
   "source": [
    "grader.check(\"q4\")"
   ]
  },
  {
   "cell_type": "markdown",
   "id": "c46289e4",
   "metadata": {
    "deletable": false,
    "editable": false
   },
   "source": [
    "<!-- BEGIN QUESTION -->\n",
    "\n",
    "**Pregunta  5** Para el data set df, con todos los valores de Bogota y Barcelona, realizar en misma figura lo siguiente, recuerda poner las unidades y etiquetas respectivas :\n",
    "\n",
    " d. Gráfico de AvgTempCelcius como función del año para la ciudad de Bogotá.\n",
    "\n",
    " e. Gráfico AvgTempCelcius como funcion del año para la ciudad de Barcelona."
   ]
  },
  {
   "cell_type": "code",
   "execution_count": null,
   "id": "e887d483",
   "metadata": {
    "tags": []
   },
   "outputs": [],
   "source": [
    "\n",
    "plt.figure()\n",
    "...\n",
    "...\n",
    "...\n",
    "...\n",
    "...\n",
    "...\n"
   ]
  },
  {
   "cell_type": "markdown",
   "id": "8c071261",
   "metadata": {
    "deletable": false,
    "editable": false
   },
   "source": [
    "<!-- END QUESTION -->\n",
    "\n",
    "<!-- BEGIN QUESTION -->\n",
    "\n",
    "**Pregunta 5:** ¿Qué puede inferir del gráfico?"
   ]
  },
  {
   "cell_type": "markdown",
   "id": "ed74d09d",
   "metadata": {},
   "source": [
    "_Type your answer here, replacing this text._"
   ]
  },
  {
   "cell_type": "markdown",
   "id": "7251a5c2",
   "metadata": {
    "deletable": false,
    "editable": false
   },
   "source": [
    "<!-- END QUESTION -->\n",
    "\n"
   ]
  },
  {
   "cell_type": "markdown",
   "id": "bebaffd4",
   "metadata": {
    "deletable": false,
    "editable": false
   },
   "source": [
    "## Submission\n",
    "\n",
    "Make sure you have run all cells in your notebook in order before running the cell below, so that all images/graphs appear in the output. The cell below will generate a zip file for you to submit. **Please save before exporting!**\n",
    "\n",
    "These are some submission instructions."
   ]
  },
  {
   "cell_type": "code",
   "execution_count": null,
   "id": "2e413d42",
   "metadata": {
    "deletable": false,
    "editable": false
   },
   "outputs": [],
   "source": [
    "# Save your notebook first, then run this cell to export your submission.\n",
    "grader.export(run_tests=True)"
   ]
  },
  {
   "cell_type": "markdown",
   "id": "78fb8c36",
   "metadata": {},
   "source": [
    " "
   ]
  }
 ],
 "metadata": {
  "kernelspec": {
   "display_name": "Python 3 (ipykernel)",
   "language": "python",
   "name": "python3"
  },
  "language_info": {
   "codemirror_mode": {
    "name": "ipython",
    "version": 3
   },
   "file_extension": ".py",
   "mimetype": "text/x-python",
   "name": "python",
   "nbconvert_exporter": "python",
   "pygments_lexer": "ipython3",
   "version": "3.10.9"
  },
  "otter": {
   "OK_FORMAT": true,
   "tests": {
    "q1": {
     "name": "q1",
     "points": null,
     "suites": [
      {
       "cases": [
        {
         "code": ">>> isinstance(ds, pd.Series) == True\nTrue",
         "hidden": false,
         "locked": false
        },
        {
         "code": ">>> np.isclose(dM, 0.39, rtol=0.001) == True\nTrue",
         "hidden": false,
         "locked": false
        },
        {
         "code": ">>> np.isclose(dJ, 5.2, rtol=0.001) == True\nTrue",
         "hidden": false,
         "locked": false
        },
        {
         "code": ">>> (len(ds) == 9) == True\nTrue",
         "hidden": false,
         "locked": false
        },
        {
         "code": ">>> (len(s) == 6) == True\nTrue",
         "hidden": false,
         "locked": false
        }
       ],
       "scored": true,
       "setup": "",
       "teardown": "",
       "type": "doctest"
      }
     ]
    },
    "q2": {
     "name": "q2",
     "points": null,
     "suites": [
      {
       "cases": [
        {
         "code": ">>> isinstance(dt, pd.Series) == True\nTrue",
         "hidden": false,
         "locked": false
        },
        {
         "code": ">>> (df.columns == ['DistanciaSolUA', 'PerdiodoUT']).sum() == 2\nTrue",
         "hidden": false,
         "locked": false
        },
        {
         "code": ">>> (df.index == ['Mercurio', 'Venus', 'Tierra', 'Marte', 'Jupiter', 'Saturno', 'Urano', 'Neptuno', 'Pluton']).sum() == 9\nTrue",
         "hidden": false,
         "locked": false
        }
       ],
       "scored": true,
       "setup": "",
       "teardown": "",
       "type": "doctest"
      }
     ]
    },
    "q3": {
     "name": "q3",
     "points": null,
     "suites": [
      {
       "cases": [
        {
         "code": ">>> (df.columns.sort_values() == ['AvgTempCelcius', 'AvgTemperature', 'City', 'Year']).sum() == 4\nTrue",
         "hidden": false,
         "locked": false
        },
        {
         "code": ">>> np.isclose(df['AvgTempCelcius'].mean(), 14.566, rtol=0.001) == True\nTrue",
         "hidden": false,
         "locked": false
        }
       ],
       "scored": true,
       "setup": "",
       "teardown": "",
       "type": "doctest"
      }
     ]
    },
    "q4": {
     "name": "q4",
     "points": null,
     "suites": [
      {
       "cases": [
        {
         "code": ">>> np.isclose(df1.AvgTempCelcius.mean(), 12.9515, rtol=0.0001) == True\nTrue",
         "hidden": false,
         "locked": false
        },
        {
         "code": ">>> np.isclose(df2.AvgTempCelcius.mean(), 16.1818, rtol=0.0001) == True\nTrue",
         "hidden": false,
         "locked": false
        }
       ],
       "scored": true,
       "setup": "",
       "teardown": "",
       "type": "doctest"
      }
     ]
    }
   }
  }
 },
 "nbformat": 4,
 "nbformat_minor": 5
}
